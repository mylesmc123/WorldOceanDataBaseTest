{
 "cells": [
  {
   "cell_type": "code",
   "execution_count": 66,
   "metadata": {},
   "outputs": [],
   "source": [
    "from wodpy import wodnc"
   ]
  },
  {
   "cell_type": "code",
   "execution_count": 67,
   "metadata": {},
   "outputs": [],
   "source": [
    "r = wodnc.Ragged('wod_apb_2014.nc')\n",
    "p = wodnc.ncProfile(r, 40000)"
   ]
  },
  {
   "cell_type": "code",
   "execution_count": 68,
   "metadata": {},
   "outputs": [
    {
     "data": {
      "text/plain": [
       "16"
      ]
     },
     "execution_count": 68,
     "metadata": {},
     "output_type": "execute_result"
    }
   ],
   "source": [
    "p.n_levels()"
   ]
  },
  {
   "cell_type": "code",
   "execution_count": 69,
   "metadata": {},
   "outputs": [
    {
     "data": {
      "text/plain": [
       "44671"
      ]
     },
     "execution_count": 69,
     "metadata": {},
     "output_type": "execute_result"
    }
   ],
   "source": [
    "r.ncasts()"
   ]
  },
  {
   "cell_type": "code",
   "execution_count": 70,
   "metadata": {},
   "outputs": [
    {
     "data": {
      "text/plain": [
       "<class 'netCDF4.Variable'>\n",
       "float32 Salinity(Salinity_obs)\n",
       "    long_name: sea_water_salinity\n",
       "    standard_name: sea_water_salinity\n",
       "    coordinates: time lat lon z\n",
       "    grid_mapping: crs\n",
       "    _FillValue: -10000000000.0\n",
       "    ancillary_variables: Salinity_sigfigs Salinity_WODflag Salinity_WODprofileflag\n",
       "unlimited dimensions: \n",
       "current shape = (645103,)\n",
       "filling on"
      ]
     },
     "execution_count": 70,
     "metadata": {},
     "output_type": "execute_result"
    }
   ],
   "source": [
    "r.variables()['Salinity']"
   ]
  },
  {
   "cell_type": "code",
   "execution_count": 71,
   "metadata": {},
   "outputs": [
    {
     "name": "stderr",
     "output_type": "stream",
     "text": [
      "WARNING:root:crs neither profile metadata nor level data.\n"
     ]
    },
    {
     "data": {
      "text/plain": [
       "['country',\n",
       " 'WOD_cruise_identifier',\n",
       " 'originators_cruise_identifier',\n",
       " 'wod_unique_cast',\n",
       " 'lat',\n",
       " 'lon',\n",
       " 'time',\n",
       " 'date',\n",
       " 'GMT_time',\n",
       " 'Access_no',\n",
       " 'Project',\n",
       " 'Platform',\n",
       " 'Orig_Stat_Num',\n",
       " 'Bottom_Depth',\n",
       " 'dataset',\n",
       " 'real_time',\n",
       " 'Ocean_Vehicle',\n",
       " 'dbase_orig',\n",
       " 'z_row_size',\n",
       " 'Temperature_row_size',\n",
       " 'Temperature_WODprofileflag',\n",
       " 'Temperature_Instrument',\n",
       " 'Salinity_row_size',\n",
       " 'Salinity_WODprofileflag',\n",
       " 'Salinity_Instrument',\n",
       " 'Pressure_row_size']"
      ]
     },
     "execution_count": 71,
     "metadata": {},
     "output_type": "execute_result"
    }
   ],
   "source": [
    "p.show_profile_metadata()"
   ]
  },
  {
   "cell_type": "code",
   "execution_count": 72,
   "metadata": {},
   "outputs": [
    {
     "name": "stderr",
     "output_type": "stream",
     "text": [
      "WARNING:root:crs neither profile metadata nor level data.\n"
     ]
    },
    {
     "data": {
      "text/plain": [
       "['z',\n",
       " 'z_WODflag',\n",
       " 'z_sigfigs',\n",
       " 'Temperature',\n",
       " 'Temperature_sigfigs',\n",
       " 'Temperature_WODflag',\n",
       " 'Salinity',\n",
       " 'Salinity_sigfigs',\n",
       " 'Salinity_WODflag',\n",
       " 'Pressure',\n",
       " 'Pressure_sigfigs']"
      ]
     },
     "execution_count": 72,
     "metadata": {},
     "output_type": "execute_result"
    }
   ],
   "source": [
    "p.show_level_data()"
   ]
  },
  {
   "cell_type": "code",
   "execution_count": 76,
   "metadata": {},
   "outputs": [
    {
     "name": "stdout",
     "output_type": "stream",
     "text": [
      "16 16\n"
     ]
    }
   ],
   "source": [
    "print (len(p.level_unpack('Salinity')), len(p.level_unpack('z')))"
   ]
  },
  {
   "cell_type": "code",
   "execution_count": null,
   "metadata": {},
   "outputs": [
    {
     "data": {
      "text/plain": [
       "masked_array(data=[  3.9645321,   9.911186 ,  19.821892 ,  29.732117 ,\n",
       "                    49.551125 ,  74.32218  ,  99.09024  , 148.61739  ,\n",
       "                   172.38615  , 184.26952  , 190.21094  , 192.19138  ,\n",
       "                   198.13254  , 221.89558  , 243.67592  , 275.35236  ],\n",
       "             mask=False,\n",
       "       fill_value=np.float64(1e+20),\n",
       "            dtype=float32)"
      ]
     },
     "execution_count": 73,
     "metadata": {},
     "output_type": "execute_result"
    }
   ],
   "source": [
    "p.z() # shorthand for p.level_unpack('z')"
   ]
  },
  {
   "cell_type": "code",
   "execution_count": 75,
   "metadata": {},
   "outputs": [
    {
     "data": {
      "text/plain": [
       "masked_array(data=[33.933, 33.933, 33.932, 33.931, 33.929, 33.928, 33.926,\n",
       "                   33.919, 33.897, 33.99 , 34.03 , 34.072, 34.096, 34.154,\n",
       "                   34.134, 34.181],\n",
       "             mask=False,\n",
       "       fill_value=np.float64(1e+20),\n",
       "            dtype=float32)"
      ]
     },
     "execution_count": 75,
     "metadata": {},
     "output_type": "execute_result"
    }
   ],
   "source": [
    "p.level_unpack('Salinity')"
   ]
  },
  {
   "cell_type": "code",
   "execution_count": 78,
   "metadata": {},
   "outputs": [
    {
     "data": {
      "image/png": "[encoded data removed]",
      "text/plain": [
       "<Figure size 640x480 with 1 Axes>"
      ]
     },
     "metadata": {},
     "output_type": "display_data"
    }
   ],
   "source": [
    "# make a plot a profile of salinity vs depth\n",
    "import matplotlib.pyplot as plt\n",
    "plt.plot(p.level_unpack('Salinity'), p.z())\n",
    "plt.gca().invert_yaxis()\n",
    "plt.xlabel('Salinity')\n",
    "plt.ylabel('Depth (m)')\n",
    "plt.title('Salinity vs Depth')\n",
    "plt.show()"
   ]
  }
 ],
 "metadata": {
  "kernelspec": {
   "display_name": "wod",
   "language": "python",
   "name": "python3"
  },
  "language_info": {
   "codemirror_mode": {
    "name": "ipython",
    "version": 3
   },
   "file_extension": ".py",
   "mimetype": "text/x-python",
   "name": "python",
   "nbconvert_exporter": "python",
   "pygments_lexer": "ipython3",
   "version": "3.13.0"
  }
 },
 "nbformat": 4,
 "nbformat_minor": 2
}
